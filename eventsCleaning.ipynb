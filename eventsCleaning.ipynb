{
 "cells": [
  {
   "cell_type": "markdown",
   "metadata": {},
   "source": [
    "<!-- Import, Clean, Seperate, and Export data files to be abnalyzed for Machine Learning -->"
   ]
  },
  {
   "cell_type": "code",
   "execution_count": null,
   "metadata": {},
   "outputs": [],
   "source": [
    "import pandas as pd\n",
    "\n",
    "path = 'data/athlete_events.csv'\n",
    "\n",
    "df = pd.read_csv(path)\n",
    "df.head()"
   ]
  },
  {
   "cell_type": "code",
   "execution_count": null,
   "metadata": {},
   "outputs": [],
   "source": [
    "# get list of columns\n",
    "df.columns"
   ]
  },
  {
   "cell_type": "code",
   "execution_count": null,
   "metadata": {},
   "outputs": [],
   "source": [
    "# Extract the columns wanted for analysis\n",
    "main_events_df = df.loc[:, [\"Sex\", \"Age\", \"Height\", \"Weight\", \"Team\", \"Year\", \"Season\", \"City\", \"Sport\", \"Event\", \"Medal\"]]\n",
    "main_events_df.head()"
   ]
  },
  {
   "cell_type": "code",
   "execution_count": null,
   "metadata": {},
   "outputs": [],
   "source": [
    "# info on df\n",
    "main_events_df.info()"
   ]
  },
  {
   "cell_type": "code",
   "execution_count": null,
   "metadata": {},
   "outputs": [],
   "source": [
    "# check for null values\n",
    "main_events_df.isnull().sum()"
   ]
  },
  {
   "cell_type": "code",
   "execution_count": null,
   "metadata": {},
   "outputs": [],
   "source": [
    "# Create a clean DataFrame by dropping the NaN in Age column\n",
    "de_dup_age_df = main_events_df.loc[main_events_df[\"Age\"] > 0]\n",
    "de_dup_age_df\n"
   ]
  },
  {
   "cell_type": "code",
   "execution_count": null,
   "metadata": {},
   "outputs": [],
   "source": [
    "# Drop the NaN in Height column\n",
    "de_dup_height_df = de_dup_age_df.loc[de_dup_age_df[\"Height\"] > 0]\n",
    "de_dup_height_df"
   ]
  },
  {
   "cell_type": "code",
   "execution_count": null,
   "metadata": {},
   "outputs": [],
   "source": [
    "# Drop the NaN in Height column\n",
    "de_Nan_df = de_dup_height_df.loc[de_dup_height_df[\"Weight\"] > 0]\n",
    "de_Nan_df"
   ]
  },
  {
   "cell_type": "code",
   "execution_count": null,
   "metadata": {},
   "outputs": [],
   "source": [
    "# replace NaN with \"---\" for analysis purposes to avoid NaN errors\n",
    "de_Nan_df = de_Nan_df.fillna('---')\n",
    "de_Nan_df.head(20)"
   ]
  },
  {
   "cell_type": "code",
   "execution_count": null,
   "metadata": {},
   "outputs": [],
   "source": [
    "# Export file as a CSV, Without the Pandas index and with the the header\n",
    "de_Nan_df.to_csv(\"data/de_duped_all_events.csv\", index=False, header=True)"
   ]
  },
  {
   "cell_type": "code",
   "execution_count": null,
   "metadata": {},
   "outputs": [],
   "source": [
    "# split data frame into Summer Olympics\n",
    "summer_events = de_Nan_df.loc[de_Nan_df[\"Season\"] == \"Summer\"]\n",
    "summer_events"
   ]
  },
  {
   "cell_type": "code",
   "execution_count": null,
   "metadata": {},
   "outputs": [],
   "source": [
    "# Export file as a CSV, Without the Pandas index and with the the header\n",
    "summer_events.to_csv(\"data/Summer_events/summer_events.csv\", index=False, header=True)"
   ]
  },
  {
   "cell_type": "code",
   "execution_count": null,
   "metadata": {},
   "outputs": [],
   "source": [
    "# split Summer events to Females only\n",
    "summer_female = summer_events.loc[summer_events[\"Sex\"] == \"F\"]\n",
    "# drop Male Column\n",
    "summer_female = summer_female.drop([\"Sex\", \"Season\"], 1)\n",
    "summer_female.head(15)"
   ]
  },
  {
   "cell_type": "code",
   "execution_count": null,
   "metadata": {},
   "outputs": [],
   "source": [
    "# Export file as a CSV, Without the Pandas index and with the the header\n",
    "summer_female.to_csv(\"data/Summer_events/summer_female.csv\", index=False, header=True)"
   ]
  },
  {
   "cell_type": "code",
   "execution_count": null,
   "metadata": {},
   "outputs": [],
   "source": [
    "# split Summer events to Males only\n",
    "summer_male = summer_events.loc[summer_events[\"Sex\"] == \"M\"]\n",
    "# drop Male Column\n",
    "summer_male = summer_male.drop([\"Sex\", \"Season\"], 1)\n",
    "summer_male.head(15)"
   ]
  },
  {
   "cell_type": "code",
   "execution_count": null,
   "metadata": {},
   "outputs": [],
   "source": [
    "# Export file as a CSV, Without the Pandas index and with the the header\n",
    "summer_male.to_csv(\"data/Summer_events/summer_male.csv\", index=False, header=True)"
   ]
  },
  {
   "cell_type": "code",
   "execution_count": null,
   "metadata": {},
   "outputs": [],
   "source": [
    "# isolate sport for data analysis- basketball\n",
    "summer_male_Swimming = summer_male.loc[summer_male[\"Event\"] == \"Swimming Men's 400 metres Freestyle\"]\n",
    "summer_male_Swimming = summer_male_Swimming.drop(\"Sport\", 1)"
   ]
  },
  {
   "cell_type": "code",
   "execution_count": null,
   "metadata": {},
   "outputs": [],
   "source": [
    "# Export file as a CSV, Without the Pandas index and with the the header\n",
    "summer_male_Swimming.to_csv(\"data/Summer_events/summer_male_Swimming_400_freestyle.csv\", index=False, header=True)\n",
    "summer_male_Swimming.head()"
   ]
  },
  {
   "cell_type": "code",
   "execution_count": null,
   "metadata": {},
   "outputs": [],
   "source": [
    "# isolate sport for data analysis- basketball\n",
    "summer_female_100_meter = summer_female.loc[summer_female[\"Event\"] == \"Athletics Women's 100 metres\"]\n",
    "summer_female_100_meter = summer_female_100_meter.drop(\"Sport\", 1)"
   ]
  },
  {
   "cell_type": "code",
   "execution_count": null,
   "metadata": {},
   "outputs": [],
   "source": [
    "# Export file as a CSV, Without the Pandas index and with the the header\n",
    "summer_female_100_meter.to_csv(\"data/Summer_events/summer_female_100_meter.csv\", index=False, header=True)\n",
    "summer_female_100_meter"
   ]
  },
  {
   "cell_type": "code",
   "execution_count": null,
   "metadata": {},
   "outputs": [],
   "source": [
    "summer_female_tennis = summer_female.loc[summer_female[\"Event\"] == \"Tennis Women's Singles\"]\n",
    "summer_female_tennis = summer_female_tennis.drop(\"Sport\", 1)"
   ]
  },
  {
   "cell_type": "code",
   "execution_count": null,
   "metadata": {},
   "outputs": [],
   "source": [
    "summer_female_tennis.to_csv(\"data/Summer_events/summer_female_tennis.csv\", index=False, header=True)\n",
    "# summer_female_tennis"
   ]
  },
  {
   "cell_type": "code",
   "execution_count": null,
   "metadata": {},
   "outputs": [],
   "source": [
    "summer_female_gym = summer_female.loc[summer_female[\"Event\"] == \"Gymnastics Women's Individual All-Around\"]\n",
    "summer_female_gym = summer_female_gym.drop(\"Sport\", 1)"
   ]
  },
  {
   "cell_type": "code",
   "execution_count": null,
   "metadata": {},
   "outputs": [],
   "source": [
    "summer_female_gym.to_csv(\"data/Summer_events/summer_female_gym.csv\", index=False, header=True)\n",
    "# summer_female_tennis"
   ]
  },
  {
   "cell_type": "code",
   "execution_count": null,
   "metadata": {},
   "outputs": [],
   "source": [
    "summer_male_tennis = summer_male.loc[summer_male[\"Event\"] == \"Tennis Men's Singles\"]\n",
    "summer_male_tennis = summer_male_tennis.drop(\"Sport\", 1)"
   ]
  },
  {
   "cell_type": "code",
   "execution_count": null,
   "metadata": {},
   "outputs": [],
   "source": [
    "summer_male_tennis.to_csv(\"data/Summer_events/summer_male_tennis.csv\", index=False, header=True)\n"
   ]
  },
  {
   "cell_type": "code",
   "execution_count": null,
   "metadata": {},
   "outputs": [],
   "source": [
    "summer_male_gym = summer_male.loc[summer_male[\"Event\"] == \"Gymnastics Men's Individual All-Around\"]\n",
    "summer_male_gym = summer_male_gym.drop(\"Sport\", 1)"
   ]
  },
  {
   "cell_type": "code",
   "execution_count": null,
   "metadata": {},
   "outputs": [],
   "source": [
    "summer_male_gym.to_csv(\"data/Summer_events/summer_male_gym.csv\", index=False, header=True)\n"
   ]
  },
  {
   "cell_type": "code",
   "execution_count": null,
   "metadata": {},
   "outputs": [],
   "source": []
  }
 ],
 "metadata": {
  "interpreter": {
   "hash": "c72a629dba5ae9edebcad565c17c3988d814021371aabb3db62cb04d2b10dbfe"
  },
  "kernelspec": {
   "display_name": "Python 3",
   "language": "python",
   "name": "python3"
  },
  "language_info": {
   "codemirror_mode": {
    "name": "ipython",
    "version": 3
   },
   "file_extension": ".py",
   "mimetype": "text/x-python",
   "name": "python",
   "nbconvert_exporter": "python",
   "pygments_lexer": "ipython3",
   "version": "3.8.5"
  }
 },
 "nbformat": 4,
 "nbformat_minor": 4
}
